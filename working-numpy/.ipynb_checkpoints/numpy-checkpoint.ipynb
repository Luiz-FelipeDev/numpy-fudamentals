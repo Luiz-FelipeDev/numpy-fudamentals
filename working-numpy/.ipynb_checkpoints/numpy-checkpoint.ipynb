{
 "cells": [
  {
   "cell_type": "markdown",
   "id": "311f792e-0152-4bbd-b739-9425c8268a8c",
   "metadata": {},
   "source": [
    "# Numpy Tutorial - Google Developments"
   ]
  },
  {
   "cell_type": "markdown",
   "id": "5f6e9dbf-3d39-419c-9ca3-738bff206e8e",
   "metadata": {},
   "source": [
    "\n",
    "[Numpy](https://numpy.org/doc/stable/index.html) is a Python library for creating and manipulating matrices, the main data structure used by ML algorithms. [Matrices](https://en.wikipedia.org/wiki/Matrix_(mathematics)) are mathematical objects used to store values in rows and columns. \n",
    "Python calls matrices *lists*, NumPy calls them *arrays* and TensorFlow calls them *tensors*. Python represents matrices with the [list data type](https://docs.python.org/3/library/stdtypes.html#lists).\n"
   ]
  },
  {
   "cell_type": "code",
   "execution_count": 2,
   "id": "b35bd62d-a877-4161-996d-db5136bfe3f1",
   "metadata": {},
   "outputs": [
    {
     "name": "stdout",
     "output_type": "stream",
     "text": [
      "Collecting numpy\n",
      "  Using cached numpy-2.2.0-cp312-cp312-manylinux_2_17_x86_64.manylinux2014_x86_64.whl.metadata (62 kB)\n",
      "Using cached numpy-2.2.0-cp312-cp312-manylinux_2_17_x86_64.manylinux2014_x86_64.whl (16.1 MB)\n",
      "Installing collected packages: numpy\n",
      "Successfully installed numpy-2.2.0\n"
     ]
    }
   ],
   "source": [
    "!pip install numpy\n"
   ]
  },
  {
   "cell_type": "code",
   "execution_count": null,
   "id": "5b5666ab-b154-4407-9700-f77347a2f9fd",
   "metadata": {},
   "outputs": [],
   "source": [
    "import numpy as np\n",
    "\n",
    "#Trabalhando com uma dimensão\n",
    "one_dimension = np.array([1.3, 2.4, 6, 7, 8])\n",
    "print(one_dimension)\n",
    "\n",
    "#Criando uma matriz 3x2\n",
    "two_dimensions = np.array([[1, 2], [3, 4], [5, 6]])\n",
    "print(two_dimensions)"
   ]
  },
  {
   "cell_type": "markdown",
   "id": "a61737a9-fcad-4c6a-96bc-73c56a212a31",
   "metadata": {},
   "source": [
    "## Populate arrays with sequences of numbers"
   ]
  },
  {
   "cell_type": "code",
   "execution_count": 10,
   "id": "2ff93b55-e8b1-43d5-ac67-b38d76a79843",
   "metadata": {},
   "outputs": [
    {
     "name": "stdout",
     "output_type": "stream",
     "text": [
      "[ 5  6  7  8  9 10]\n"
     ]
    }
   ],
   "source": [
    "sequence_of_integers = np.arange(5, 11)\n",
    "print(sequence_of_integers)"
   ]
  },
  {
   "cell_type": "markdown",
   "id": "747ec87d-dc38-4a15-9dce-7f7b27df4388",
   "metadata": {},
   "source": [
    "Notice that np.arange generates a sequence that includes the lower bound (5) but not the upper bound (12). "
   ]
  },
  {
   "cell_type": "markdown",
   "id": "b5458f7c-ff35-4ab6-b9f9-e076361146dd",
   "metadata": {},
   "source": [
    "## Populate arrays with random numbers"
   ]
  },
  {
   "cell_type": "code",
   "execution_count": 17,
   "id": "504d4b3b-388e-4ef9-a510-56d8dd518b27",
   "metadata": {},
   "outputs": [
    {
     "name": "stdout",
     "output_type": "stream",
     "text": [
      "[67 59 76 69 53 83]\n"
     ]
    }
   ],
   "source": [
    "random_integers_between_50_and_100 = np.random.randint(low=50, high=101, size=(6,))\n",
    "print(random_integers_between_50_and_100)"
   ]
  },
  {
   "cell_type": "markdown",
   "id": "faeb9ae1-3840-40ae-8f03-af46505b82b9",
   "metadata": {},
   "source": [
    "##### To create random floating-point values between 0.0 and 1.0, call np.random.random. For example:"
   ]
  },
  {
   "cell_type": "code",
   "execution_count": 19,
   "id": "24f9e97c-c337-4092-bc7a-1ebf9e0eaab8",
   "metadata": {},
   "outputs": [
    {
     "name": "stdout",
     "output_type": "stream",
     "text": [
      "[0.67344659 0.61018489 0.1079242  0.9271152  0.23545249 0.99521696]\n"
     ]
    }
   ],
   "source": [
    "random_floats = np.random.random(size=(6,))\n",
    "print(random_floats)"
   ]
  }
 ],
 "metadata": {
  "kernelspec": {
   "display_name": "Python 3 (ipykernel)",
   "language": "python",
   "name": "python3"
  },
  "language_info": {
   "codemirror_mode": {
    "name": "ipython",
    "version": 3
   },
   "file_extension": ".py",
   "mimetype": "text/x-python",
   "name": "python",
   "nbconvert_exporter": "python",
   "pygments_lexer": "ipython3",
   "version": "3.12.3"
  }
 },
 "nbformat": 4,
 "nbformat_minor": 5
}
