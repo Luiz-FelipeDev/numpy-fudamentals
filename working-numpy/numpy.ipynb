{
 "cells": [
  {
   "cell_type": "markdown",
   "id": "311f792e-0152-4bbd-b739-9425c8268a8c",
   "metadata": {},
   "source": [
    "# Numpy Tutorial - Google Developments"
   ]
  },
  {
   "cell_type": "markdown",
   "id": "5f6e9dbf-3d39-419c-9ca3-738bff206e8e",
   "metadata": {},
   "source": [
    "\n",
    "[Numpy](https://numpy.org/doc/stable/index.html) is a Python library for creating and manipulating matrices, the main data structure used by ML algorithms. [Matrices](https://en.wikipedia.org/wiki/Matrix_(mathematics)) are mathematical objects used to store values in rows and columns. \n",
    "Python calls matrices *lists*, NumPy calls them *arrays* and TensorFlow calls them *tensors*. Python represents matrices with the [list data type](https://docs.python.org/3/library/stdtypes.html#lists).\n"
   ]
  },
  {
   "cell_type": "code",
   "execution_count": 4,
   "id": "b35bd62d-a877-4161-996d-db5136bfe3f1",
   "metadata": {},
   "outputs": [
    {
     "name": "stdout",
     "output_type": "stream",
     "text": [
      "Requirement already satisfied: numpy in /home/luiz-felipe/workspace-python/working-data-science/numpy-fundamentals/jupyter/lib/python3.12/site-packages (2.2.0)\n"
     ]
    }
   ],
   "source": [
    "!pip install numpy\n"
   ]
  },
  {
   "cell_type": "code",
   "execution_count": 5,
   "id": "5b5666ab-b154-4407-9700-f77347a2f9fd",
   "metadata": {},
   "outputs": [
    {
     "name": "stdout",
     "output_type": "stream",
     "text": [
      "[1.3 2.4 6.  7.  8. ]\n",
      "[[1 2]\n",
      " [3 4]\n",
      " [5 6]]\n"
     ]
    }
   ],
   "source": [
    "import numpy as np\n",
    "\n",
    "#Trabalhando com uma dimensão\n",
    "one_dimension = np.array([1.3, 2.4, 6, 7, 8])\n",
    "print(one_dimension)\n",
    "\n",
    "#Criando uma matriz 3x2\n",
    "two_dimensions = np.array([[1, 2], [3, 4], [5, 6]])\n",
    "print(two_dimensions)"
   ]
  },
  {
   "cell_type": "markdown",
   "id": "a61737a9-fcad-4c6a-96bc-73c56a212a31",
   "metadata": {},
   "source": [
    "## Populate arrays with sequences of numbers"
   ]
  },
  {
   "cell_type": "code",
   "execution_count": 6,
   "id": "2ff93b55-e8b1-43d5-ac67-b38d76a79843",
   "metadata": {},
   "outputs": [
    {
     "name": "stdout",
     "output_type": "stream",
     "text": [
      "[ 5  6  7  8  9 10]\n"
     ]
    }
   ],
   "source": [
    "sequence_of_integers = np.arange(5, 11)\n",
    "print(sequence_of_integers)"
   ]
  },
  {
   "cell_type": "markdown",
   "id": "747ec87d-dc38-4a15-9dce-7f7b27df4388",
   "metadata": {},
   "source": [
    "Notice that np.arange generates a sequence that includes the lower bound (5) but not the upper bound (12). "
   ]
  },
  {
   "cell_type": "markdown",
   "id": "b5458f7c-ff35-4ab6-b9f9-e076361146dd",
   "metadata": {},
   "source": [
    "## Populate arrays with random numbers"
   ]
  },
  {
   "cell_type": "code",
   "execution_count": 7,
   "id": "504d4b3b-388e-4ef9-a510-56d8dd518b27",
   "metadata": {},
   "outputs": [
    {
     "name": "stdout",
     "output_type": "stream",
     "text": [
      "[ 71  75  64 100  89  92]\n"
     ]
    }
   ],
   "source": [
    "random_integers_between_50_and_100 = np.random.randint(low=50, high=101, size=(6,))\n",
    "print(random_integers_between_50_and_100)"
   ]
  },
  {
   "cell_type": "markdown",
   "id": "faeb9ae1-3840-40ae-8f03-af46505b82b9",
   "metadata": {},
   "source": [
    "##### To create random floating-point values between 0.0 and 1.0, call np.random.random. For example:"
   ]
  },
  {
   "cell_type": "code",
   "execution_count": 12,
   "id": "24f9e97c-c337-4092-bc7a-1ebf9e0eaab8",
   "metadata": {},
   "outputs": [
    {
     "name": "stdout",
     "output_type": "stream",
     "text": [
      "[0.16311812 0.67607344 0.73967529 0.16180615 0.93408973 0.79687229]\n"
     ]
    }
   ],
   "source": [
    "random_floats = np.random.random(size=(6,))\n",
    "print(random_floats)"
   ]
  },
  {
   "cell_type": "markdown",
   "id": "b76bd9b7-245f-4eaf-8718-ff5a08baaf39",
   "metadata": {},
   "source": [
    "## Operations Working array"
   ]
  },
  {
   "cell_type": "code",
   "execution_count": 13,
   "id": "7b5ddc40-e0f1-4e6f-a92c-609f6cbcfa1f",
   "metadata": {},
   "outputs": [
    {
     "name": "stdout",
     "output_type": "stream",
     "text": [
      "0.16311812481321142\n",
      "******************************\n",
      "[1.01       0.67607344 0.73967529 0.16180615 0.93408973 0.79687229]\n"
     ]
    }
   ],
   "source": [
    "# Arrays com numpys são mutaveis e muito parecido com as operações que podemos realizar nas listas\n",
    "\n",
    "print(random_floats[0])\n",
    "print(\"******************************\")\n",
    "random_floats[0] = 1.01\n",
    "print(random_floats)"
   ]
  },
  {
   "cell_type": "code",
   "execution_count": 19,
   "id": "14326913-34b2-44a9-9412-ed1d90b439c6",
   "metadata": {},
   "outputs": [
    {
     "name": "stdout",
     "output_type": "stream",
     "text": [
      "[1 2 3 5 6 7 8 9]\n",
      "[1 2 3 5 6 7 8 9]\n"
     ]
    }
   ],
   "source": [
    "# Consigo realizar fatiamento com arrays\n",
    "\n",
    "a = np.array([1, 2, 3, 5, 6, 7, 8, 9])\n",
    "b = a[:]\n",
    "print(b) # printa a copia de a\n",
    "\n",
    "print(a[:3]) # printa os três primeiros do array"
   ]
  },
  {
   "cell_type": "code",
   "execution_count": 27,
   "id": "eaa9c3db-6672-4755-a0e8-9d0f2eb70b7a",
   "metadata": {},
   "outputs": [
    {
     "name": "stdout",
     "output_type": "stream",
     "text": [
      "[60 14]\n",
      "[10 12 60 14]\n",
      "***********************\n",
      "[[ 1  2  3  4]\n",
      " [ 5  6  7  8]\n",
      " [ 9 10 11 12]]\n",
      "6\n"
     ]
    }
   ],
   "source": [
    "#Ainda sobre fatiamentos com arrays\n",
    "\n",
    "x = np.array([10, 12, 13, 14])\n",
    "y = x[2:]\n",
    "y[0] = 60\n",
    "print(y)\n",
    "print(x)\n",
    "\n",
    "print(\"***********************\")\n",
    "#Para acessar elementos de uma matriz com array do Numpy, podemos fazer dessa forma:\n",
    "\n",
    "z  = np.array([\n",
    "    [1, 2, 3, 4,],\n",
    "    [5, 6, 7, 8],\n",
    "    [9, 10, 11, 12]])\n",
    "print(z)\n",
    "\n",
    "print(z[1, 1])"
   ]
  },
  {
   "cell_type": "markdown",
   "id": "f1e64306-8910-4698-bc7d-5cd8ae62b54f",
   "metadata": {},
   "source": [
    "## Array attributes"
   ]
  },
  {
   "cell_type": "markdown",
   "id": "d7cae263-1d7a-4cdb-86c0-39fc9206ae9d",
   "metadata": {},
   "source": [
    "This section covers the ndim, shape, size, and dtype attributes of an array."
   ]
  },
  {
   "cell_type": "code",
   "execution_count": 28,
   "id": "e99987ff-f716-40f6-9356-a89d7459054b",
   "metadata": {},
   "outputs": [
    {
     "name": "stdout",
     "output_type": "stream",
     "text": [
      "2\n"
     ]
    }
   ],
   "source": [
    "print(z.ndim) # Retorna o número de dimensões da matriz"
   ]
  },
  {
   "cell_type": "code",
   "execution_count": 29,
   "id": "2cc65a3d-5496-4865-a8b8-4defddcbe268",
   "metadata": {},
   "outputs": [
    {
     "name": "stdout",
     "output_type": "stream",
     "text": [
      "(3, 4)\n"
     ]
    }
   ],
   "source": [
    "print(z.shape) # linha x colunas"
   ]
  },
  {
   "cell_type": "code",
   "execution_count": 30,
   "id": "35bd3125-2565-473f-a9e3-93a326e993e8",
   "metadata": {},
   "outputs": [
    {
     "name": "stdout",
     "output_type": "stream",
     "text": [
      "12\n"
     ]
    }
   ],
   "source": [
    "print(z.size)"
   ]
  },
  {
   "cell_type": "code",
   "execution_count": 31,
   "id": "70efa54d-8913-42d1-a353-c106b4a80fdd",
   "metadata": {},
   "outputs": [
    {
     "name": "stdout",
     "output_type": "stream",
     "text": [
      "int64\n"
     ]
    }
   ],
   "source": [
    "print(z.dtype)"
   ]
  },
  {
   "cell_type": "markdown",
   "id": "d11270c7-a82b-464d-99e2-f8389133bc0f",
   "metadata": {},
   "source": [
    "## How to create a basic array"
   ]
  },
  {
   "cell_type": "markdown",
   "id": "d3667a8f-c07a-4f43-a812-ea1fe9244e8e",
   "metadata": {},
   "source": [
    "This section covers np.zeros(), np.ones(), np.empty(), np.arange(), np.linspace()"
   ]
  },
  {
   "cell_type": "code",
   "execution_count": 35,
   "id": "71afab5b-d58e-4874-a040-4a5fcf9997b7",
   "metadata": {},
   "outputs": [
    {
     "name": "stdout",
     "output_type": "stream",
     "text": [
      "[0. 0. 0.]\n"
     ]
    }
   ],
   "source": [
    "zeros_matrix = np.zeros(3)\n",
    "print(zeros_matrix)"
   ]
  },
  {
   "cell_type": "code",
   "execution_count": 37,
   "id": "88ccb7d5-1173-40d4-9aff-77a8585c31ae",
   "metadata": {},
   "outputs": [
    {
     "name": "stdout",
     "output_type": "stream",
     "text": [
      "[1. 1. 1.]\n"
     ]
    }
   ],
   "source": [
    "ones_matrix = np.ones(3)\n",
    "print(ones_matrix)"
   ]
  },
  {
   "cell_type": "code",
   "execution_count": 47,
   "id": "551952cd-73fb-41cc-ae75-fda3532c049c",
   "metadata": {},
   "outputs": [
    {
     "name": "stdout",
     "output_type": "stream",
     "text": [
      "[1.3 2.4 6.  7.  8. ]\n"
     ]
    }
   ],
   "source": [
    "elements_matrix = np.empty(5)\n",
    "print(elements_matrix)"
   ]
  },
  {
   "cell_type": "code",
   "execution_count": 48,
   "id": "65f02001-fe71-486a-8018-1f2a5cc1fbba",
   "metadata": {},
   "outputs": [
    {
     "name": "stdout",
     "output_type": "stream",
     "text": [
      "[ 0.   2.5  5.   7.5 10. ]\n"
     ]
    }
   ],
   "source": [
    "numbers_space = np.linspace(0, 10, num=5) #Pode ser muito importante! Usa espaços lineares para um determinado intervalo de números\n",
    "print(numbers_space)"
   ]
  }
 ],
 "metadata": {
  "kernelspec": {
   "display_name": "Python 3 (ipykernel)",
   "language": "python",
   "name": "python3"
  },
  "language_info": {
   "codemirror_mode": {
    "name": "ipython",
    "version": 3
   },
   "file_extension": ".py",
   "mimetype": "text/x-python",
   "name": "python",
   "nbconvert_exporter": "python",
   "pygments_lexer": "ipython3",
   "version": "3.12.3"
  }
 },
 "nbformat": 4,
 "nbformat_minor": 5
}
